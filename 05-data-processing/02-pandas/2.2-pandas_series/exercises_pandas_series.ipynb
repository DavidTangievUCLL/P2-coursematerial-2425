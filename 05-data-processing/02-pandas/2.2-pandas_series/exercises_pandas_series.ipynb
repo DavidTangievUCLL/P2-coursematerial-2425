{
 "cells": [
  {
   "cell_type": "markdown",
   "metadata": {},
   "source": [
    "# Exercises pandas Series"
   ]
  },
  {
   "cell_type": "code",
   "execution_count": 88,
   "metadata": {},
   "outputs": [],
   "source": [
    "#Import the necessary packages\n",
    "import pandas as pd"
   ]
  },
  {
   "cell_type": "markdown",
   "metadata": {},
   "source": [
    "## 1. Train delay\n",
    "### Part 1"
   ]
  },
  {
   "cell_type": "markdown",
   "metadata": {},
   "source": [
    "`delay_data` is a dictionary containing the average delay (in minutes) the trains of a certain station have. \n",
    "* Create a Series `train_delay` using this dictionary"
   ]
  },
  {
   "cell_type": "code",
   "execution_count": 89,
   "metadata": {},
   "outputs": [],
   "source": [
    "delay_data = {\"Brussel\": 6.34, \"Antwerpen\": 5.45, \"Brugge\": 4.12, \"Gent\": 2.45, \"Hasselt\": 6.08}\n",
    "train_delay = pd.Series(delay_data)\n",
    "# Your code"
   ]
  },
  {
   "cell_type": "markdown",
   "metadata": {},
   "source": [
    "Some cities have several stations, which is not specified in the dictionary. Change the index of Brussel, Antwerpen and Gent, to Brussel-Centraal, Antwerpen-Centraal and Gent-Sint-Pieters respectively."
   ]
  },
  {
   "cell_type": "code",
   "execution_count": 90,
   "metadata": {},
   "outputs": [
    {
     "name": "stdout",
     "output_type": "stream",
     "text": [
      "Brussel-Centraal      6.34\n",
      "Antwerpen-Centraal    5.45\n",
      "Brugge                4.12\n",
      "Gent-Sint-Pieters     2.45\n",
      "Hasselt               6.08\n",
      "dtype: float64\n"
     ]
    }
   ],
   "source": [
    "# Your code\n",
    "train_delay.rename({\"Brussel\": \"Brussel-Centraal\", \"Antwerpen\": \"Antwerpen-Centraal\", \"Gent\": \"Gent-Sint-Pieters\"}, inplace=True)\n",
    "print(train_delay)"
   ]
  },
  {
   "cell_type": "markdown",
   "metadata": {},
   "source": [
    "* Create a new Series only containing the data of Brussels and Gent."
   ]
  },
  {
   "cell_type": "code",
   "execution_count": 91,
   "metadata": {},
   "outputs": [
    {
     "name": "stdout",
     "output_type": "stream",
     "text": [
      "Brussel-Centraal     6.34\n",
      "Gent-Sint-Pieters    2.45\n",
      "dtype: float64\n"
     ]
    }
   ],
   "source": [
    "# Your code\n",
    "brusssel_gent = pd.Series(train_delay[[\"Brussel-Centraal\", \"Gent-Sint-Pieters\"]])\n",
    "print(brusssel_gent)"
   ]
  },
  {
   "cell_type": "markdown",
   "metadata": {},
   "source": [
    "### Train delay part 2"
   ]
  },
  {
   "cell_type": "markdown",
   "metadata": {},
   "source": [
    "* Display the average delay time of Antwerpen."
   ]
  },
  {
   "cell_type": "code",
   "execution_count": 92,
   "metadata": {},
   "outputs": [
    {
     "name": "stdout",
     "output_type": "stream",
     "text": [
      "5.45\n"
     ]
    }
   ],
   "source": [
    "print(train_delay[\"Antwerpen-Centraal\"])\n",
    "# Your code"
   ]
  },
  {
   "cell_type": "markdown",
   "metadata": {},
   "source": [
    "Rumors say that train company *Chuck Chuck* only labels a train as delayed when they arrive at least 6 minutes late. Filter the series to only show the stations with an average delay of at least 6 minutes. Save the resulting Series in a new variable."
   ]
  },
  {
   "cell_type": "code",
   "execution_count": 93,
   "metadata": {},
   "outputs": [
    {
     "name": "stdout",
     "output_type": "stream",
     "text": [
      "Brussel-Centraal    6.34\n",
      "Hasselt             6.08\n",
      "dtype: float64\n"
     ]
    }
   ],
   "source": [
    "# Your code\n",
    "print(train_delay[train_delay >= 6])"
   ]
  },
  {
   "cell_type": "markdown",
   "metadata": {},
   "source": [
    "Oops, there was a wrong data entry in the data set. The average train delay in Brussel-Centraal is not 6.34 min but 8.34 min. Change the data of our Series train_delay."
   ]
  },
  {
   "cell_type": "code",
   "execution_count": 94,
   "metadata": {},
   "outputs": [
    {
     "name": "stdout",
     "output_type": "stream",
     "text": [
      "Brussel-Centraal      8.34\n",
      "Antwerpen-Centraal    5.45\n",
      "Brugge                4.12\n",
      "Gent-Sint-Pieters     2.45\n",
      "Hasselt               6.08\n",
      "dtype: float64\n"
     ]
    }
   ],
   "source": [
    "# Your code\n",
    "train_delay[\"Brussel-Centraal\"] = 8.34\n",
    "print(train_delay)"
   ]
  },
  {
   "cell_type": "markdown",
   "metadata": {},
   "source": [
    "Display following data using the appropriate attribute.\n",
    "* The indices of the Series\n",
    "* The values of the Series\n",
    "* How many values the Series contains\n",
    "* The datatype of the elements of the Series"
   ]
  },
  {
   "cell_type": "code",
   "execution_count": 95,
   "metadata": {},
   "outputs": [
    {
     "name": "stdout",
     "output_type": "stream",
     "text": [
      "Brussel-Centraal      8.34\n",
      "Antwerpen-Centraal    5.45\n",
      "Brugge                4.12\n",
      "Gent-Sint-Pieters     2.45\n",
      "Hasselt               6.08\n",
      "dtype: float64\n",
      "5\n"
     ]
    }
   ],
   "source": [
    "# Your code\n",
    "print(train_delay)\n",
    "print(train_delay.size)"
   ]
  },
  {
   "cell_type": "markdown",
   "metadata": {},
   "source": [
    "## 2. Zoo animals"
   ]
  },
  {
   "cell_type": "markdown",
   "metadata": {},
   "source": [
    "`Animal_counts` is a dictionary containing the amount of animals of a certain type are living in the local zoo. \n"
   ]
  },
  {
   "cell_type": "code",
   "execution_count": 96,
   "metadata": {},
   "outputs": [],
   "source": [
    "animal_counts = {\n",
    "    \"Lion\": 5,\n",
    "    \"Elephant\": 3,\n",
    "    \"Giraffe\": 7,\n",
    "    \"Zebra\": 12,\n",
    "    \"Kangaroo\": 4,\n",
    "    \"Penguin\": 15,\n",
    "    \"Panda\": 2,\n",
    "    \"Tiger\": 6,\n",
    "    \"Flamingo\": 8,\n",
    "    \"Crocodile\": 3\n",
    "}"
   ]
  },
  {
   "cell_type": "markdown",
   "metadata": {},
   "source": [
    "**Basic Series operations**\n",
    "* Create a Series `zoo_animals` using this dictionary\n",
    "* Show how many Giraffes and Tigers there are.\n",
    "* Print the total number of animals in the zoo.\n",
    "* Print the list of animal species.\n",
    "* Print the list of animal counts."
   ]
  },
  {
   "cell_type": "code",
   "execution_count": 97,
   "metadata": {},
   "outputs": [
    {
     "name": "stdout",
     "output_type": "stream",
     "text": [
      "7\n",
      "6\n",
      "<bound method Series.keys of Lion          5\n",
      "Elephant      3\n",
      "Giraffe       7\n",
      "Zebra        12\n",
      "Kangaroo      4\n",
      "Penguin      15\n",
      "Panda         2\n",
      "Tiger         6\n",
      "Flamingo      8\n",
      "Crocodile     3\n",
      "dtype: int64>\n"
     ]
    }
   ],
   "source": [
    "# Your code\n",
    "zoo_animals = pd.Series(animal_counts)\n",
    "print(zoo_animals[\"Giraffe\"])\n",
    "print(zoo_animals[\"Tiger\"])\n",
    "print(zoo_animals.keys)"
   ]
  },
  {
   "cell_type": "markdown",
   "metadata": {},
   "source": [
    "**Filtering and data manipulation**\n",
    "* Display the animals who are at least with 5 of their kind.\n",
    "* Create a new Series only containing the data of the animals with a count of 3 or less.\n",
    "* Jippieeee! A panda was born! Increase the number of pandas with 1.\n",
    "* Joan the Crocodile has found a lover in the Berlin zoo and moves together with their 2 mates to Berlin. Remove the crocodile data frome the Series.\n",
    "* Oops, we forgot to count the Koala's. Add 3 koala's to the Series."
   ]
  },
  {
   "cell_type": "code",
   "execution_count": 98,
   "metadata": {},
   "outputs": [
    {
     "name": "stdout",
     "output_type": "stream",
     "text": [
      "Lion         5\n",
      "Giraffe      7\n",
      "Zebra       12\n",
      "Penguin     15\n",
      "Tiger        6\n",
      "Flamingo     8\n",
      "dtype: int64\n",
      "Elephant     3\n",
      "Panda        2\n",
      "Crocodile    3\n",
      "dtype: int64\n",
      "Lion         5\n",
      "Elephant     3\n",
      "Giraffe      7\n",
      "Zebra       12\n",
      "Kangaroo     4\n",
      "Penguin     15\n",
      "Panda        3\n",
      "Tiger        6\n",
      "Flamingo     8\n",
      "dtype: int64\n",
      "Lion         5\n",
      "Elephant     3\n",
      "Giraffe      7\n",
      "Zebra       12\n",
      "Kangaroo     4\n",
      "Penguin     15\n",
      "Panda        3\n",
      "Tiger        6\n",
      "Flamingo     8\n",
      "Koala        3\n",
      "dtype: int64\n"
     ]
    }
   ],
   "source": [
    "# Your code\n",
    "at_least_five = zoo_animals[zoo_animals >= 5]\n",
    "print(at_least_five)\n",
    "no_more_than_3 = zoo_animals[zoo_animals <= 3]\n",
    "print(no_more_than_3)\n",
    "zoo_animals[\"Panda\"] += 1\n",
    "zoo_animals.drop(labels=[\"Crocodile\"], inplace=True)\n",
    "print(zoo_animals)\n",
    "zoo_animals[\"Koala\"] = 3\n",
    "print(zoo_animals)\n"
   ]
  }
 ],
 "metadata": {
  "kernelspec": {
   "display_name": "Python 3",
   "language": "python",
   "name": "python3"
  },
  "language_info": {
   "codemirror_mode": {
    "name": "ipython",
    "version": 3
   },
   "file_extension": ".py",
   "mimetype": "text/x-python",
   "name": "python",
   "nbconvert_exporter": "python",
   "pygments_lexer": "ipython3",
   "version": "3.13.3"
  }
 },
 "nbformat": 4,
 "nbformat_minor": 2
}
